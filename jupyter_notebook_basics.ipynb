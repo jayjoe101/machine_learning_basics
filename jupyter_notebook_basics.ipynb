{
 "cells": [
  {
   "cell_type": "markdown",
   "id": "f4144d8a-c9f1-4309-bb1d-524632267146",
   "metadata": {
    "tags": []
   },
   "source": [
    "# Illustrate Jupytter Notebook\n",
    "## Hello World Script\n",
    "\n",
    "This is a demonstartion of how Jupyter Notebook Works"
   ]
  },
  {
   "cell_type": "markdown",
   "id": "0e7d4c67-af63-4c22-89e7-30f3fba9e72e",
   "metadata": {},
   "source": [
    "### Basic printing"
   ]
  },
  {
   "cell_type": "code",
   "execution_count": 1,
   "id": "4a488c5c-ed31-4f0c-9167-644b804b4dd2",
   "metadata": {
    "tags": []
   },
   "outputs": [
    {
     "name": "stdout",
     "output_type": "stream",
     "text": [
      "Hello World\n"
     ]
    }
   ],
   "source": [
    "print('Hello World')"
   ]
  },
  {
   "cell_type": "markdown",
   "id": "aeeaa28b-4e46-46f0-8a33-01ea4a95306c",
   "metadata": {},
   "source": [
    "### Calculations"
   ]
  },
  {
   "cell_type": "code",
   "execution_count": 3,
   "id": "444cea02-ac27-4d20-8d99-c5f319adebcf",
   "metadata": {
    "tags": []
   },
   "outputs": [
    {
     "data": {
      "text/plain": [
       "28"
      ]
     },
     "execution_count": 3,
     "metadata": {},
     "output_type": "execute_result"
    }
   ],
   "source": [
    "def add(*args):\n",
    "    return sum(args)\n",
    "\n",
    "add(1,2,4,6,7,8)"
   ]
  },
  {
   "cell_type": "markdown",
   "id": "8aac0427-56bf-460c-b314-9114b0cb2313",
   "metadata": {},
   "source": [
    "$x=\\frac{1}{7}$"
   ]
  },
  {
   "cell_type": "code",
   "execution_count": 4,
   "id": "b389f08a-f713-48cd-90c6-ab14f23373e7",
   "metadata": {},
   "outputs": [
    {
     "data": {
      "text/plain": [
       "1024"
      ]
     },
     "execution_count": 4,
     "metadata": {},
     "output_type": "execute_result"
    }
   ],
   "source": [
    "4**5"
   ]
  },
  {
   "cell_type": "code",
   "execution_count": null,
   "id": "30d7752d-d31c-48df-854c-4b307b7d9748",
   "metadata": {},
   "outputs": [],
   "source": []
  }
 ],
 "metadata": {
  "kernelspec": {
   "display_name": "Python 3 (ipykernel)",
   "language": "python",
   "name": "python3"
  },
  "language_info": {
   "codemirror_mode": {
    "name": "ipython",
    "version": 3
   },
   "file_extension": ".py",
   "mimetype": "text/x-python",
   "name": "python",
   "nbconvert_exporter": "python",
   "pygments_lexer": "ipython3",
   "version": "3.11.4"
  }
 },
 "nbformat": 4,
 "nbformat_minor": 5
}
